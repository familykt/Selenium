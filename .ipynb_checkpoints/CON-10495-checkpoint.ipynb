{
 "cells": [
  {
   "cell_type": "code",
   "execution_count": 1,
   "metadata": {},
   "outputs": [],
   "source": [
    "import time\n",
    "from selenium import webdriver\n",
    "from selenium.webdriver.common.by import By\n",
    "import chromedriver_binary\n",
    "from selenium.webdriver.common.keys import Keys\n",
    "from selenium.webdriver.common.action_chains import ActionChains\n",
    "from selenium.webdriver.support.ui import WebDriverWait\n",
    "from selenium.webdriver.support import expected_conditions as EC"
   ]
  },
  {
   "cell_type": "code",
   "execution_count": 2,
   "metadata": {},
   "outputs": [],
   "source": [
    "import json\n",
    "with open(\"./account.json\") as json_file:\n",
    "    json_data = json.load(json_file)"
   ]
  },
  {
   "cell_type": "code",
   "execution_count": 3,
   "metadata": {},
   "outputs": [],
   "source": [
    "driver = webdriver.Chrome()\n",
    "action = ActionChains(driver)\n",
    "wait = WebDriverWait(driver, 10)"
   ]
  },
  {
   "cell_type": "code",
   "execution_count": 4,
   "metadata": {},
   "outputs": [],
   "source": [
    "# move to tripla api\n",
    "url = \"https://cm.staging.tripla.ai/\"\n",
    "driver.get(url)\n",
    "driver.maximize_window()\n",
    "driver.implicitly_wait(10)"
   ]
  },
  {
   "cell_type": "code",
   "execution_count": 5,
   "metadata": {},
   "outputs": [
    {
     "name": "stdout",
     "output_type": "stream",
     "text": [
      "successfully logged in\n"
     ]
    }
   ],
   "source": [
    "# log in\n",
    "try:\n",
    "    driver.find_element_by_id('__BVID__36').send_keys(json_data['Account'][0]['id'])\n",
    "    driver.find_element_by_id('__BVID__38').send_keys(json_data['Account'][0]['password'])\n",
    "    driver.find_element_by_css_selector('.btn').click()\n",
    "    print(\"successfully logged in\")\n",
    "except:\n",
    "    print(\"login failed\")\n",
    "driver.implicitly_wait(10)"
   ]
  },
  {
   "cell_type": "code",
   "execution_count": 6,
   "metadata": {},
   "outputs": [],
   "source": [
    "#wait to load contents\n",
    "time.sleep(5)\n",
    "\n",
    "BW_setting = \"https://cm.staging.tripla.ai/hotels/4/settings/widget/booking\"\n",
    "driver.get(BW_setting)"
   ]
  },
  {
   "cell_type": "code",
   "execution_count": 7,
   "metadata": {},
   "outputs": [
    {
     "data": {
      "text/plain": [
       "['recommended', 'price_low_to_high', 'price_high_to_low']"
      ]
     },
     "execution_count": 7,
     "metadata": {},
     "output_type": "execute_result"
    }
   ],
   "source": [
    "setting_selector = [\"recommended\",\"price_low_to_high\",\"price_high_to_low\"]\n",
    "setting_selector"
   ]
  },
  {
   "cell_type": "code",
   "execution_count": 8,
   "metadata": {},
   "outputs": [],
   "source": [
    "BW_url = \"http://staging.tripla-hotel.com/\"\n",
    "driver.execute_script(\"window.open()\")"
   ]
  },
  {
   "cell_type": "code",
   "execution_count": 9,
   "metadata": {},
   "outputs": [
    {
     "name": "stderr",
     "output_type": "stream",
     "text": [
      "C:\\Users\\Changmami\\anaconda3\\lib\\site-packages\\ipykernel_launcher.py:8: DeprecationWarning: use driver.switch_to.window instead\n",
      "  \n"
     ]
    },
    {
     "name": "stdout",
     "output_type": "stream",
     "text": [
      "booking_widget is successfully loaded\n",
      "recommended:추천순\n"
     ]
    },
    {
     "name": "stderr",
     "output_type": "stream",
     "text": [
      "C:\\Users\\Changmami\\anaconda3\\lib\\site-packages\\ipykernel_launcher.py:27: DeprecationWarning: use driver.switch_to.window instead\n"
     ]
    },
    {
     "name": "stdout",
     "output_type": "stream",
     "text": [
      "booking_widget is successfully loaded\n",
      "price_low_to_high:낮은 가격순\n",
      "booking_widget is successfully loaded\n",
      "price_high_to_low:높은 가격순\n"
     ]
    }
   ],
   "source": [
    "for selector in setting_selector:\n",
    "    # click and update BW Default sort order\n",
    "    driver.find_element_by_xpath(\"//input[@value='\"+selector+\"']/following-sibling::label\").click()\n",
    "    driver.find_element_by_xpath(\"//*[@id='4']/div[1]/div/div[2]/div/form/div/button[2]\").click()\n",
    "\n",
    "    # switch to window and move to demo hotel\n",
    "\n",
    "    driver.switch_to_window(driver.window_handles[1])\n",
    "    driver.get(BW_url)\n",
    "    driver.implicitly_wait(10)\n",
    "    # open booking_widget\n",
    "    try:\n",
    "        availabilty_button = wait.until(EC.presence_of_element_located((By.CSS_SELECTOR,'body > div.search-widget-wrapper-872d0c > form > div > button')))\n",
    "        availabilty_button.click()\n",
    "        time.sleep(2)\n",
    "        print(\"booking_widget is successfully loaded\")\n",
    "    except:\n",
    "        print(\"booking_widget is unloaded\")\n",
    "\n",
    "    # check the status\n",
    "    reservation_modal = driver.find_element_by_css_selector(\"#tripla-booking-modal > div > div > iframe\")\n",
    "    driver.switch_to.frame(reservation_modal)\n",
    "    time.sleep(5)\n",
    "    driver.find_element_by_xpath(\"/html/body/div[2]/div/div[4]/div[1]/div[2]/div[2]/div[2]/div[1]/button\").click()\n",
    "    setting_status_on_BW = driver.find_element_by_xpath(\"//a[@class='dropdown-item active']\").text\n",
    "    print(selector + \":\" + setting_status_on_BW )\n",
    "    driver.switch_to_window(driver.window_handles[0])"
   ]
  },
  {
   "cell_type": "code",
   "execution_count": null,
   "metadata": {},
   "outputs": [],
   "source": []
  }
 ],
 "metadata": {
  "kernelspec": {
   "display_name": "Python 3",
   "language": "python",
   "name": "python3"
  },
  "language_info": {
   "codemirror_mode": {
    "name": "ipython",
    "version": 3
   },
   "file_extension": ".py",
   "mimetype": "text/x-python",
   "name": "python",
   "nbconvert_exporter": "python",
   "pygments_lexer": "ipython3",
   "version": "3.7.6"
  },
  "toc": {
   "base_numbering": 1,
   "nav_menu": {},
   "number_sections": true,
   "sideBar": true,
   "skip_h1_title": false,
   "title_cell": "Table of Contents",
   "title_sidebar": "Contents",
   "toc_cell": false,
   "toc_position": {},
   "toc_section_display": true,
   "toc_window_display": false
  }
 },
 "nbformat": 4,
 "nbformat_minor": 4
}
