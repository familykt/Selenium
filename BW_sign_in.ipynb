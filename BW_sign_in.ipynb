{
 "cells": [
  {
   "cell_type": "code",
   "execution_count": 1,
   "metadata": {},
   "outputs": [],
   "source": [
    "import time\n",
    "from selenium import webdriver\n",
    "from selenium.webdriver.common.by import By\n",
    "import chromedriver_binary\n",
    "from selenium.webdriver.common.keys import Keys\n",
    "from selenium.webdriver.common.action_chains import ActionChains\n",
    "from selenium.webdriver.support.ui import WebDriverWait\n",
    "from selenium.webdriver.support import expected_conditions as EC\n",
    "from selenium.common.exceptions import TimeoutException"
   ]
  },
  {
   "cell_type": "code",
   "execution_count": 2,
   "metadata": {},
   "outputs": [],
   "source": [
    "import json\n",
    "with open(\"./account.json\") as json_file:\n",
    "    json_data = json.load(json_file)"
   ]
  },
  {
   "cell_type": "code",
   "execution_count": 3,
   "metadata": {},
   "outputs": [],
   "source": [
    "driver = webdriver.Chrome()\n",
    "action = ActionChains(driver)\n",
    "wait = WebDriverWait(driver, 10)"
   ]
  },
  {
   "cell_type": "code",
   "execution_count": 4,
   "metadata": {},
   "outputs": [],
   "source": [
    "#move to reservation_api\n",
    "url = \"http://staging.tripla-hotel.com/\"\n",
    "driver.get(url)\n",
    "driver.maximize_window()\n",
    "timeout = 5"
   ]
  },
  {
   "cell_type": "code",
   "execution_count": 5,
   "metadata": {
    "scrolled": true
   },
   "outputs": [
    {
     "name": "stdout",
     "output_type": "stream",
     "text": [
      "moved to booking_widget\n"
     ]
    }
   ],
   "source": [
    "#move to booking_widget\n",
    "try:\n",
    "    availabilty_button = wait.until(EC.presence_of_element_located((By.CSS_SELECTOR,'body > div.search-widget-wrapper-872d0c > form > div > button')))\n",
    "    availabilty_button.click()\n",
    "    time.sleep(2)\n",
    "    print(\"moved to booking_widget\")\n",
    "except:\n",
    "    print(\"booking_widget is unloaded\")"
   ]
  },
  {
   "cell_type": "code",
   "execution_count": 6,
   "metadata": {},
   "outputs": [],
   "source": [
    "#move to sign-in page\n",
    "try:\n",
    "    reservation_modal = driver.find_element_by_css_selector(\"#tripla-booking-modal > div > div > iframe\")\n",
    "    driver.switch_to.frame(reservation_modal)\n",
    "    sign_in_button = wait.until(EC.presence_of_element_located((By.XPATH,\"//*[@class='sign-in-button-container']/div[2]/button[1]\")))\n",
    "    sign_in_button.click()\n",
    "    time.sleep(2)\n",
    "    print(\"moved to sign-in page\")\n",
    "except:\n",
    "    print(\"failed to move to sign-in page\")"
   ]
  },
  {
   "cell_type": "code",
   "execution_count": 7,
   "metadata": {},
   "outputs": [
    {
     "name": "stdout",
     "output_type": "stream",
     "text": [
      "clicked the Facebook login\n"
     ]
    }
   ],
   "source": [
    "#click the facebook login\n",
    "try:\n",
    "    fb_frame = driver.find_element_by_css_selector(\"body > div.app-wrapper.webkit-overflow-scrolling > div > div.center-wrapper > form > div.mb-3.text-center > div > span > iframe\")\n",
    "    driver.switch_to.frame(fb_frame)\n",
    "    sign_in_button_2 = wait.until(EC.presence_of_element_located((By.CSS_SELECTOR,'#u_0_1 > div > table > tbody > tr:nth-child(2) > td:nth-child(1) > span')))\n",
    "    sign_in_button_2.click()\n",
    "    time.sleep(2)\n",
    "    print(\"clicked the Facebook login\")\n",
    "except:\n",
    "    print(\"failed to move to facebook login\")"
   ]
  },
  {
   "cell_type": "code",
   "execution_count": 8,
   "metadata": {},
   "outputs": [
    {
     "name": "stderr",
     "output_type": "stream",
     "text": [
      "C:\\Users\\Changmami\\anaconda3\\lib\\site-packages\\ipykernel_launcher.py:3: DeprecationWarning: use driver.switch_to.window instead\n",
      "  This is separate from the ipykernel package so we can avoid doing imports until\n"
     ]
    },
    {
     "name": "stdout",
     "output_type": "stream",
     "text": [
      "successfully logged in\n"
     ]
    }
   ],
   "source": [
    "#input the id/password\n",
    "try:\n",
    "    driver.switch_to_window(driver.window_handles[1])\n",
    "    driver.find_element_by_id(\"email\").send_keys(json_data['Account'][1]['id'])\n",
    "    driver.find_element_by_id(\"pass\").send_keys(json_data['Account'][1]['password'])\n",
    "    driver.find_element_by_id(\"u_0_0\").click()\n",
    "    print(\"successfully logged in\")\n",
    "except:\n",
    "    print(\"login failed\")\n",
    "finally:\n",
    "    driver.quit()"
   ]
  },
  {
   "cell_type": "code",
   "execution_count": null,
   "metadata": {},
   "outputs": [],
   "source": []
  }
 ],
 "metadata": {
  "kernelspec": {
   "display_name": "Python 3",
   "language": "python",
   "name": "python3"
  },
  "language_info": {
   "codemirror_mode": {
    "name": "ipython",
    "version": 3
   },
   "file_extension": ".py",
   "mimetype": "text/x-python",
   "name": "python",
   "nbconvert_exporter": "python",
   "pygments_lexer": "ipython3",
   "version": "3.7.6"
  },
  "toc": {
   "base_numbering": 1,
   "nav_menu": {},
   "number_sections": true,
   "sideBar": true,
   "skip_h1_title": false,
   "title_cell": "Table of Contents",
   "title_sidebar": "Contents",
   "toc_cell": false,
   "toc_position": {},
   "toc_section_display": true,
   "toc_window_display": false
  }
 },
 "nbformat": 4,
 "nbformat_minor": 4
}
