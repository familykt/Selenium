{
 "cells": [
  {
   "cell_type": "code",
   "execution_count": 45,
   "metadata": {},
   "outputs": [],
   "source": [
    "import time\n",
    "from selenium import webdriver\n",
    "from selenium.webdriver.common.by import By\n",
    "import chromedriver_binary\n",
    "from selenium.webdriver.common.keys import Keys\n",
    "from selenium.webdriver.common.action_chains import ActionChains\n",
    "from selenium.webdriver.support.ui import WebDriverWait\n",
    "from selenium.webdriver.support import expected_conditions as EC"
   ]
  },
  {
   "cell_type": "code",
   "execution_count": 46,
   "metadata": {},
   "outputs": [
    {
     "name": "stdout",
     "output_type": "stream",
     "text": [
      "{'id': 'concierge@umami.global', 'password': 'umamimax1'}\n"
     ]
    }
   ],
   "source": [
    "import json\n",
    "with open(\"./account.json\") as json_file:\n",
    "    json_data = json.load(json_file)"
   ]
  },
  {
   "cell_type": "code",
   "execution_count": 47,
   "metadata": {},
   "outputs": [],
   "source": [
    "driver = webdriver.Chrome()\n",
    "\n",
    "action = ActionChains(driver)\n",
    "wait = WebDriverWait(driver, 10)"
   ]
  },
  {
   "cell_type": "code",
   "execution_count": 48,
   "metadata": {},
   "outputs": [],
   "source": [
    "# move to tripla api\n",
    "url = \"https://cm.staging.tripla.ai/\"\n",
    "driver.get(url)\n",
    "driver.maximize_window()"
   ]
  },
  {
   "cell_type": "code",
   "execution_count": 49,
   "metadata": {},
   "outputs": [
    {
     "name": "stdout",
     "output_type": "stream",
     "text": [
      "successfully logged in\n"
     ]
    }
   ],
   "source": [
    "# log in\n",
    "try:\n",
    "    driver.find_element_by_id('__BVID__36').send_keys(json_data['id'])\n",
    "    driver.find_element_by_id('__BVID__38').send_keys(json_data['password'])\n",
    "    driver.find_element_by_css_selector('.btn').click()\n",
    "    print(\"successfully logged in\")\n",
    "except:\n",
    "    print(\"login failed\")\n",
    "time.sleep(2)"
   ]
  },
  {
   "cell_type": "code",
   "execution_count": 50,
   "metadata": {},
   "outputs": [],
   "source": [
    "# move to auto-message page\n",
    "hotel_url = \"https://cm.staging.tripla.ai/hotels/4/auto-messages/\"\n",
    "driver.get(hotel_url)\n"
   ]
  },
  {
   "cell_type": "code",
   "execution_count": 33,
   "metadata": {},
   "outputs": [],
   "source": [
    "# move to creating page\n",
    "button_1 = wait.until(EC.presence_of_element_located((By.CSS_SELECTOR,'.btn.btn-success')))\n",
    "button_1.click()"
   ]
  },
  {
   "cell_type": "code",
   "execution_count": 34,
   "metadata": {},
   "outputs": [
    {
     "name": "stdout",
     "output_type": "stream",
     "text": [
      "successfully created\n"
     ]
    }
   ],
   "source": [
    "#creating auto message\n",
    "am_text = \"test_by_selenium(john)\"\n",
    "time.sleep(2)\n",
    "try:\n",
    "    driver.find_element_by_css_selector('.custom-checkbox').click()\n",
    "    driver.find_element_by_xpath('//*[@id=\"4\"]/div[1]/div/div[2]/fieldset[3]/div[1]/input').send_keys(am_text)\n",
    "    driver.find_element_by_xpath('//*[@id=\"4\"]/div[1]/div/div[2]/div[1]/div[9]').click()\n",
    "    driver.find_element_by_xpath('//*[@id=\"4\"]/div[1]/div/div[2]/div[2]/form/div[2]/div/div[2]/div[1]/fieldset[1]/div[1]/textarea[1]').send_keys(am_text)\n",
    "    driver.find_element_by_css_selector('.btn.minw-3.btn-success').click()\n",
    "    print(\"successfully created\")\n",
    "except:\n",
    "    print(\"failed creation\")"
   ]
  },
  {
   "cell_type": "code",
   "execution_count": 35,
   "metadata": {},
   "outputs": [
    {
     "name": "stdout",
     "output_type": "stream",
     "text": [
      "successfully moved to created auto-message\n"
     ]
    }
   ],
   "source": [
    "#move to edit page\n",
    "button_2 = wait.until(EC.presence_of_element_located((By.XPATH,\"//td[contains(text(),'\"+am_text+\"')]\")))\n",
    "try:\n",
    "    button_2.click()\n",
    "    print(\"successfully moved to created auto-message\")\n",
    "except:\n",
    "    print(\"failed to move to created auto-message\")"
   ]
  },
  {
   "cell_type": "code",
   "execution_count": 36,
   "metadata": {},
   "outputs": [
    {
     "name": "stdout",
     "output_type": "stream",
     "text": [
      "successfully deleted\n"
     ]
    }
   ],
   "source": [
    "#click the delete button\n",
    "button_3 = wait.until(EC.presence_of_element_located((By.CSS_SELECTOR,'.btn.minw-3.btn-outline-info')))\n",
    "try:\n",
    "    button_3.click()\n",
    "    driver.find_element_by_css_selector('.btn.btn-info').click()\n",
    "    print(\"successfully deleted\")\n",
    "except:\n",
    "    print(\"failed to deleted\")\n",
    "\n",
    "finally:\n",
    "    driver.quit()\n"
   ]
  }
 ],
 "metadata": {
  "kernelspec": {
   "display_name": "Python 3",
   "language": "python",
   "name": "python3"
  },
  "language_info": {
   "codemirror_mode": {
    "name": "ipython",
    "version": 3
   },
   "file_extension": ".py",
   "mimetype": "text/x-python",
   "name": "python",
   "nbconvert_exporter": "python",
   "pygments_lexer": "ipython3",
   "version": "3.7.6"
  },
  "toc": {
   "base_numbering": 1,
   "nav_menu": {},
   "number_sections": true,
   "sideBar": true,
   "skip_h1_title": false,
   "title_cell": "Table of Contents",
   "title_sidebar": "Contents",
   "toc_cell": false,
   "toc_position": {},
   "toc_section_display": true,
   "toc_window_display": false
  }
 },
 "nbformat": 4,
 "nbformat_minor": 4
}
